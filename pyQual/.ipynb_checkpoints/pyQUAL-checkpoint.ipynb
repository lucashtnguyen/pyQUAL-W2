{
 "metadata": {
  "name": ""
 },
 "nbformat": 3,
 "nbformat_minor": 0,
 "worksheets": [
  {
   "cells": [
    {
     "cell_type": "heading",
     "level": 1,
     "metadata": {},
     "source": [
      "pyQUAL"
     ]
    },
    {
     "cell_type": "markdown",
     "metadata": {},
     "source": [
      "A Python visualization and analysis package for CE-QUAL-W2 <br><br>\n",
      "To-do:<br>\n",
      "- Combine classes and 'Get_' functions<br>\n",
      "- Test and verify stats in TS_Stats<br>\n",
      "- Creat Profile calibration object<br>"
     ]
    },
    {
     "cell_type": "heading",
     "level": 2,
     "metadata": {},
     "source": [
      "Dependancies"
     ]
    },
    {
     "cell_type": "code",
     "collapsed": false,
     "input": [
      "from __future__ import division\n",
      "from pylab import *\n",
      "from decimal import *\n",
      "from mpl_toolkits.axes_grid.anchored_artists import AnchoredText\n",
      "from itertools import cycle\n",
      "import os\n",
      "import pandas\n",
      "import numpy as np\n",
      "import matplotlib as mpl\n",
      "import matplotlib.pyplot as plt\n",
      "import time\n",
      "import matplotlib.dates as mdates\n",
      "from mpl_toolkits.axes_grid1 import make_axes_locatable\n",
      "import seaborn\n",
      "from matplotlib.mlab import griddata\n",
      "import matplotlib.gridspec as gridspec\n",
      "%pylab inline"
     ],
     "language": "python",
     "metadata": {},
     "outputs": [
      {
       "output_type": "stream",
       "stream": "stdout",
       "text": [
        "Populating the interactive namespace from numpy and matplotlib\n"
       ]
      },
      {
       "output_type": "stream",
       "stream": "stderr",
       "text": [
        "WARNING: pylab import has clobbered these variables: ['linalg', 'draw_if_interactive', 'random', 'fft', 'power', 'info']\n",
        "`%pylab --no-import-all` prevents importing * from pylab and numpy\n"
       ]
      }
     ],
     "prompt_number": 1
    },
    {
     "cell_type": "heading",
     "level": 2,
     "metadata": {},
     "source": [
      "pyQUAL Library"
     ]
    },
    {
     "cell_type": "code",
     "collapsed": false,
     "input": [
      "os.chdir(r'C:\\Users\\lnguyen\\Documents\\GitHub\\pyQUAL-W2\\Model')\n",
      "from Get_Model import *\n",
      "from Types import *"
     ],
     "language": "python",
     "metadata": {},
     "outputs": [],
     "prompt_number": 2
    },
    {
     "cell_type": "code",
     "collapsed": false,
     "input": [
      "# Directory with data\n",
      "path = r'C:\\Users\\lnguyen\\Documents\\GitHub\\pyQUAL-W2\\pyQual'"
     ],
     "language": "python",
     "metadata": {},
     "outputs": [],
     "prompt_number": 3
    },
    {
     "cell_type": "heading",
     "level": 2,
     "metadata": {},
     "source": [
      "Verticle Profiles"
     ]
    },
    {
     "cell_type": "markdown",
     "metadata": {},
     "source": [
      "Import spr.opt file and look at data.<br>\n",
      "Notice that the 'Get_' functions add a date column to the data automatically when given a reference date"
     ]
    },
    {
     "cell_type": "code",
     "collapsed": false,
     "input": [
      "spr = Get_spr(os.path.join(path, 'spr2.opt'), Date=[2000,1,1], elev_cols=4)\n",
      "spr.head()"
     ],
     "language": "python",
     "metadata": {},
     "outputs": [
      {
       "output_type": "stream",
       "stream": "stderr",
       "text": [
        "C:\\Anaconda\\lib\\site-packages\\pandas\\core\\config.py:570: DeprecationWarning: height has been deprecated.\n",
        "\n",
        "  warnings.warn(d.msg, DeprecationWarning)\n",
        "C:\\Anaconda\\lib\\site-packages\\pandas\\core\\config.py:570: DeprecationWarning: height has been deprecated.\n",
        "\n",
        "  warnings.warn(d.msg, DeprecationWarning)\n",
        "C:\\Anaconda\\lib\\site-packages\\pandas\\core\\config.py:570: DeprecationWarning: height has been deprecated.\n",
        "\n",
        "  warnings.warn(d.msg, DeprecationWarning)\n"
       ]
      },
      {
       "html": [
        "<div style=\"max-height:1000px;max-width:1500px;overflow:auto;\">\n",
        "<table border=\"1\" class=\"dataframe\">\n",
        "  <thead>\n",
        "    <tr style=\"text-align: right;\">\n",
        "      <th></th>\n",
        "      <th>Constituent</th>\n",
        "      <th>Julian_day</th>\n",
        "      <th>Depth</th>\n",
        "      <th>Elevation</th>\n",
        "      <th>Seg_50</th>\n",
        "      <th>Seg_55</th>\n",
        "      <th>Seg_73</th>\n",
        "      <th>Seg_82</th>\n",
        "      <th>Date</th>\n",
        "    </tr>\n",
        "  </thead>\n",
        "  <tbody>\n",
        "    <tr>\n",
        "      <th>0</th>\n",
        "      <td> Temperature</td>\n",
        "      <td> 1829</td>\n",
        "      <td>-0.455</td>\n",
        "      <td> 261.455</td>\n",
        "      <td> 4.45</td>\n",
        "      <td> 4.45</td>\n",
        "      <td> 4.45</td>\n",
        "      <td> 4.45</td>\n",
        "      <td> 2005-01-02 00:00:00+00:00</td>\n",
        "    </tr>\n",
        "    <tr>\n",
        "      <th>1</th>\n",
        "      <td> Temperature</td>\n",
        "      <td> 1829</td>\n",
        "      <td>-1.410</td>\n",
        "      <td> 260.500</td>\n",
        "      <td> 4.45</td>\n",
        "      <td> 4.45</td>\n",
        "      <td> 4.45</td>\n",
        "      <td> 4.45</td>\n",
        "      <td> 2005-01-02 00:00:00+00:00</td>\n",
        "    </tr>\n",
        "    <tr>\n",
        "      <th>2</th>\n",
        "      <td> Temperature</td>\n",
        "      <td> 1829</td>\n",
        "      <td>-2.410</td>\n",
        "      <td> 259.500</td>\n",
        "      <td> 4.45</td>\n",
        "      <td> 4.45</td>\n",
        "      <td> 4.45</td>\n",
        "      <td> 4.45</td>\n",
        "      <td> 2005-01-02 00:00:00+00:00</td>\n",
        "    </tr>\n",
        "    <tr>\n",
        "      <th>3</th>\n",
        "      <td> Temperature</td>\n",
        "      <td> 1829</td>\n",
        "      <td>-3.410</td>\n",
        "      <td> 258.500</td>\n",
        "      <td> 4.45</td>\n",
        "      <td> 4.45</td>\n",
        "      <td> 4.45</td>\n",
        "      <td> 4.45</td>\n",
        "      <td> 2005-01-02 00:00:00+00:00</td>\n",
        "    </tr>\n",
        "    <tr>\n",
        "      <th>4</th>\n",
        "      <td> Temperature</td>\n",
        "      <td> 1829</td>\n",
        "      <td>-4.410</td>\n",
        "      <td> 257.500</td>\n",
        "      <td> 4.45</td>\n",
        "      <td> 4.45</td>\n",
        "      <td> 4.45</td>\n",
        "      <td> 4.45</td>\n",
        "      <td> 2005-01-02 00:00:00+00:00</td>\n",
        "    </tr>\n",
        "  </tbody>\n",
        "</table>\n",
        "</div>"
       ],
       "metadata": {},
       "output_type": "pyout",
       "prompt_number": 4,
       "text": [
        "   Constituent  Julian_day  Depth  Elevation  Seg_50  Seg_55  Seg_73  Seg_82  \\\n",
        "0  Temperature        1829 -0.455    261.455    4.45    4.45    4.45    4.45   \n",
        "1  Temperature        1829 -1.410    260.500    4.45    4.45    4.45    4.45   \n",
        "2  Temperature        1829 -2.410    259.500    4.45    4.45    4.45    4.45   \n",
        "3  Temperature        1829 -3.410    258.500    4.45    4.45    4.45    4.45   \n",
        "4  Temperature        1829 -4.410    257.500    4.45    4.45    4.45    4.45   \n",
        "\n",
        "                        Date  \n",
        "0  2005-01-02 00:00:00+00:00  \n",
        "1  2005-01-02 00:00:00+00:00  \n",
        "2  2005-01-02 00:00:00+00:00  \n",
        "3  2005-01-02 00:00:00+00:00  \n",
        "4  2005-01-02 00:00:00+00:00  "
       ]
      }
     ],
     "prompt_number": 4
    },
    {
     "cell_type": "markdown",
     "metadata": {},
     "source": [
      "Create a 'Profile' object"
     ]
    },
    {
     "cell_type": "code",
     "collapsed": false,
     "input": [
      "pro = Profile(spr, \n",
      "              data='Seg_73', \n",
      "              JDcol='Julian_day', \n",
      "              stype='Model', \n",
      "              constituent='Temperature', \n",
      "              units='C')"
     ],
     "language": "python",
     "metadata": {},
     "outputs": [],
     "prompt_number": 5
    },
    {
     "cell_type": "markdown",
     "metadata": {},
     "source": [
      "Plot profiles. Groups of NxM grids of profiles are next on the to-do list. Paul has a function I will adapt"
     ]
    },
    {
     "cell_type": "code",
     "collapsed": false,
     "input": [
      "pro.profile_plot(pltday=2027.266)"
     ],
     "language": "python",
     "metadata": {},
     "outputs": [
      {
       "metadata": {},
       "output_type": "pyout",
       "prompt_number": 6,
       "text": [
        "(<matplotlib.figure.Figure at 0x14e7ada0>,\n",
        " <matplotlib.axes.AxesSubplot at 0x5de9d68>)"
       ]
      },
      {
       "metadata": {},
       "output_type": "display_data",
       "png": "[encoded data removed]",
       "text": [
        "<matplotlib.figure.Figure at 0x14e7ada0>"
       ]
      }
     ],
     "prompt_number": 6
    },
    {
     "cell_type": "code",
     "collapsed": false,
     "input": [
      "pro.profile_subplots(jdays=[1829,2027.266, 1830, 1831, 1832])"
     ],
     "language": "python",
     "metadata": {},
     "outputs": [
      {
       "metadata": {},
       "output_type": "pyout",
       "prompt_number": 7,
       "text": [
        "(<matplotlib.figure.Figure at 0x152fb908>,\n",
        " [[<matplotlib.axes.AxesSubplot at 0x152f8da0>],\n",
        "  [<matplotlib.axes.AxesSubplot at 0x1535ee80>],\n",
        "  [<matplotlib.axes.AxesSubplot at 0x187a41d0>],\n",
        "  [<matplotlib.axes.AxesSubplot at 0x1a811978>],\n",
        "  [<matplotlib.axes.AxesSubplot at 0x187c7ef0>]])"
       ]
      },
      {
       "metadata": {},
       "output_type": "display_data",
       "png": "[encoded data removed]",
       "text": [
        "<matplotlib.figure.Figure at 0x152fb908>"
       ]
      }
     ],
     "prompt_number": 7
    },
    {
     "cell_type": "markdown",
     "metadata": {},
     "source": [
      "The contour plot. grid_N is the square NxN grid used to create the figure. There is an interpolation function as well that is turned off here that will smooth the colors out when using a smaller grid for performance"
     ]
    },
    {
     "cell_type": "code",
     "collapsed": false,
     "input": [
      "ax = pro.depth_date_plot(grid_N=200, interpolation='nearest') \n",
      "ax.set_ylim([255, 265])"
     ],
     "language": "python",
     "metadata": {},
     "outputs": [
      {
       "metadata": {},
       "output_type": "pyout",
       "prompt_number": 26,
       "text": [
        "(255, 265)"
       ]
      },
      {
       "metadata": {},
       "output_type": "display_data",
       "png": "[encoded data removed]",
       "text": [
        "<matplotlib.figure.Figure at 0x23864f98>"
       ]
      }
     ],
     "prompt_number": 26
    },
    {
     "cell_type": "code",
     "collapsed": false,
     "input": [
      "pro._raw_data.head()"
     ],
     "language": "python",
     "metadata": {},
     "outputs": [
      {
       "output_type": "stream",
       "stream": "stderr",
       "text": [
        "C:\\Anaconda\\lib\\site-packages\\pandas\\core\\config.py:570: DeprecationWarning: height has been deprecated.\n",
        "\n",
        "  warnings.warn(d.msg, DeprecationWarning)\n",
        "C:\\Anaconda\\lib\\site-packages\\pandas\\core\\config.py:570: DeprecationWarning: height has been deprecated.\n",
        "\n",
        "  warnings.warn(d.msg, DeprecationWarning)\n",
        "C:\\Anaconda\\lib\\site-packages\\pandas\\core\\config.py:570: DeprecationWarning: height has been deprecated.\n",
        "\n",
        "  warnings.warn(d.msg, DeprecationWarning)\n"
       ]
      },
      {
       "html": [
        "<div style=\"max-height:1000px;max-width:1500px;overflow:auto;\">\n",
        "<table border=\"1\" class=\"dataframe\">\n",
        "  <thead>\n",
        "    <tr style=\"text-align: right;\">\n",
        "      <th></th>\n",
        "      <th>Constituent</th>\n",
        "      <th>Julian_day</th>\n",
        "      <th>Depth</th>\n",
        "      <th>Elevation</th>\n",
        "      <th>Seg_50</th>\n",
        "      <th>Seg_55</th>\n",
        "      <th>Seg_73</th>\n",
        "      <th>Seg_82</th>\n",
        "      <th>Date</th>\n",
        "    </tr>\n",
        "  </thead>\n",
        "  <tbody>\n",
        "    <tr>\n",
        "      <th>0</th>\n",
        "      <td> Temperature</td>\n",
        "      <td> 1829</td>\n",
        "      <td>-0.455</td>\n",
        "      <td> 261.455</td>\n",
        "      <td> 4.45</td>\n",
        "      <td> 4.45</td>\n",
        "      <td> 4.45</td>\n",
        "      <td> 4.45</td>\n",
        "      <td> 2005-01-02 00:00:00+00:00</td>\n",
        "    </tr>\n",
        "    <tr>\n",
        "      <th>1</th>\n",
        "      <td> Temperature</td>\n",
        "      <td> 1829</td>\n",
        "      <td>-1.410</td>\n",
        "      <td> 260.500</td>\n",
        "      <td> 4.45</td>\n",
        "      <td> 4.45</td>\n",
        "      <td> 4.45</td>\n",
        "      <td> 4.45</td>\n",
        "      <td> 2005-01-02 00:00:00+00:00</td>\n",
        "    </tr>\n",
        "    <tr>\n",
        "      <th>2</th>\n",
        "      <td> Temperature</td>\n",
        "      <td> 1829</td>\n",
        "      <td>-2.410</td>\n",
        "      <td> 259.500</td>\n",
        "      <td> 4.45</td>\n",
        "      <td> 4.45</td>\n",
        "      <td> 4.45</td>\n",
        "      <td> 4.45</td>\n",
        "      <td> 2005-01-02 00:00:00+00:00</td>\n",
        "    </tr>\n",
        "    <tr>\n",
        "      <th>3</th>\n",
        "      <td> Temperature</td>\n",
        "      <td> 1829</td>\n",
        "      <td>-3.410</td>\n",
        "      <td> 258.500</td>\n",
        "      <td> 4.45</td>\n",
        "      <td> 4.45</td>\n",
        "      <td> 4.45</td>\n",
        "      <td> 4.45</td>\n",
        "      <td> 2005-01-02 00:00:00+00:00</td>\n",
        "    </tr>\n",
        "    <tr>\n",
        "      <th>4</th>\n",
        "      <td> Temperature</td>\n",
        "      <td> 1829</td>\n",
        "      <td>-4.410</td>\n",
        "      <td> 257.500</td>\n",
        "      <td> 4.45</td>\n",
        "      <td> 4.45</td>\n",
        "      <td> 4.45</td>\n",
        "      <td> 4.45</td>\n",
        "      <td> 2005-01-02 00:00:00+00:00</td>\n",
        "    </tr>\n",
        "  </tbody>\n",
        "</table>\n",
        "</div>"
       ],
       "metadata": {},
       "output_type": "pyout",
       "prompt_number": 18,
       "text": [
        "   Constituent  Julian_day  Depth  Elevation  Seg_50  Seg_55  Seg_73  Seg_82  \\\n",
        "0  Temperature        1829 -0.455    261.455    4.45    4.45    4.45    4.45   \n",
        "1  Temperature        1829 -1.410    260.500    4.45    4.45    4.45    4.45   \n",
        "2  Temperature        1829 -2.410    259.500    4.45    4.45    4.45    4.45   \n",
        "3  Temperature        1829 -3.410    258.500    4.45    4.45    4.45    4.45   \n",
        "4  Temperature        1829 -4.410    257.500    4.45    4.45    4.45    4.45   \n",
        "\n",
        "                        Date  \n",
        "0  2005-01-02 00:00:00+00:00  \n",
        "1  2005-01-02 00:00:00+00:00  \n",
        "2  2005-01-02 00:00:00+00:00  \n",
        "3  2005-01-02 00:00:00+00:00  \n",
        "4  2005-01-02 00:00:00+00:00  "
       ]
      }
     ],
     "prompt_number": 18
    },
    {
     "cell_type": "markdown",
     "metadata": {},
     "source": [
      "With interpolation and a smaller grid for performance increases"
     ]
    },
    {
     "cell_type": "heading",
     "level": 2,
     "metadata": {},
     "source": [
      "Timeseries"
     ]
    },
    {
     "cell_type": "code",
     "collapsed": false,
     "input": [
      "tsr = Get_tsr(os.path.join(path, 'tsr_19.opt'), Date=[2000,1,1])\n",
      "tsr.head()"
     ],
     "language": "python",
     "metadata": {},
     "outputs": [
      {
       "output_type": "stream",
       "stream": "stderr",
       "text": [
        "C:\\Anaconda\\lib\\site-packages\\pandas\\core\\config.py:570: DeprecationWarning: height has been deprecated.\n",
        "\n",
        "  warnings.warn(d.msg, DeprecationWarning)\n",
        "C:\\Anaconda\\lib\\site-packages\\pandas\\core\\config.py:570: DeprecationWarning: height has been deprecated.\n",
        "\n",
        "  warnings.warn(d.msg, DeprecationWarning)\n",
        "C:\\Anaconda\\lib\\site-packages\\pandas\\core\\config.py:570: DeprecationWarning: height has been deprecated.\n",
        "\n",
        "  warnings.warn(d.msg, DeprecationWarning)\n"
       ]
      },
      {
       "html": [
        "<div style=\"max-height:1000px;max-width:1500px;overflow:auto;\">\n",
        "<table border=\"1\" class=\"dataframe\">\n",
        "  <thead>\n",
        "    <tr style=\"text-align: right;\">\n",
        "      <th></th>\n",
        "      <th>JDAY</th>\n",
        "      <th>DLT</th>\n",
        "      <th>ELWS</th>\n",
        "      <th>T2</th>\n",
        "      <th>Q</th>\n",
        "      <th>SRON</th>\n",
        "      <th>ET</th>\n",
        "      <th>DEPTH</th>\n",
        "      <th>WIDTH</th>\n",
        "      <th>SHADE</th>\n",
        "      <th>Date</th>\n",
        "    </tr>\n",
        "  </thead>\n",
        "  <tbody>\n",
        "    <tr>\n",
        "      <th>0</th>\n",
        "      <td> 1829.000</td>\n",
        "      <td> 5</td>\n",
        "      <td> 261.91</td>\n",
        "      <td> 4.45</td>\n",
        "      <td> 0.18</td>\n",
        "      <td> 0</td>\n",
        "      <td> 0</td>\n",
        "      <td> 33.91</td>\n",
        "      <td> 638.84</td>\n",
        "      <td> 1</td>\n",
        "      <td>        2005-01-02 00:00:00+00:00</td>\n",
        "    </tr>\n",
        "    <tr>\n",
        "      <th>1</th>\n",
        "      <td> 1829.042</td>\n",
        "      <td> 5</td>\n",
        "      <td> 261.91</td>\n",
        "      <td> 4.44</td>\n",
        "      <td> 3.55</td>\n",
        "      <td> 0</td>\n",
        "      <td> 0</td>\n",
        "      <td> 33.91</td>\n",
        "      <td> 638.84</td>\n",
        "      <td> 1</td>\n",
        "      <td> 2005-01-02 01:00:28.800001+00:00</td>\n",
        "    </tr>\n",
        "    <tr>\n",
        "      <th>2</th>\n",
        "      <td> 1829.083</td>\n",
        "      <td> 5</td>\n",
        "      <td> 261.90</td>\n",
        "      <td> 4.44</td>\n",
        "      <td> 3.74</td>\n",
        "      <td> 0</td>\n",
        "      <td> 0</td>\n",
        "      <td> 33.90</td>\n",
        "      <td> 638.84</td>\n",
        "      <td> 1</td>\n",
        "      <td> 2005-01-02 01:59:31.199998+00:00</td>\n",
        "    </tr>\n",
        "    <tr>\n",
        "      <th>3</th>\n",
        "      <td> 1829.125</td>\n",
        "      <td> 5</td>\n",
        "      <td> 261.90</td>\n",
        "      <td> 4.43</td>\n",
        "      <td> 3.52</td>\n",
        "      <td> 0</td>\n",
        "      <td> 0</td>\n",
        "      <td> 33.90</td>\n",
        "      <td> 638.84</td>\n",
        "      <td> 1</td>\n",
        "      <td>        2005-01-02 03:00:00+00:00</td>\n",
        "    </tr>\n",
        "    <tr>\n",
        "      <th>4</th>\n",
        "      <td> 1829.167</td>\n",
        "      <td> 5</td>\n",
        "      <td> 261.90</td>\n",
        "      <td> 4.43</td>\n",
        "      <td> 3.42</td>\n",
        "      <td> 0</td>\n",
        "      <td> 0</td>\n",
        "      <td> 33.90</td>\n",
        "      <td> 638.84</td>\n",
        "      <td> 1</td>\n",
        "      <td> 2005-01-02 04:00:28.800001+00:00</td>\n",
        "    </tr>\n",
        "  </tbody>\n",
        "</table>\n",
        "</div>"
       ],
       "metadata": {},
       "output_type": "pyout",
       "prompt_number": 9,
       "text": [
        "       JDAY  DLT    ELWS    T2     Q  SRON  ET  DEPTH   WIDTH  SHADE  \\\n",
        "0  1829.000    5  261.91  4.45  0.18     0   0  33.91  638.84      1   \n",
        "1  1829.042    5  261.91  4.44  3.55     0   0  33.91  638.84      1   \n",
        "2  1829.083    5  261.90  4.44  3.74     0   0  33.90  638.84      1   \n",
        "3  1829.125    5  261.90  4.43  3.52     0   0  33.90  638.84      1   \n",
        "4  1829.167    5  261.90  4.43  3.42     0   0  33.90  638.84      1   \n",
        "\n",
        "                               Date  \n",
        "0         2005-01-02 00:00:00+00:00  \n",
        "1  2005-01-02 01:00:28.800001+00:00  \n",
        "2  2005-01-02 01:59:31.199998+00:00  \n",
        "3         2005-01-02 03:00:00+00:00  \n",
        "4  2005-01-02 04:00:28.800001+00:00  "
       ]
      }
     ],
     "prompt_number": 9
    },
    {
     "cell_type": "markdown",
     "metadata": {},
     "source": [
      "Fake some calibration data"
     ]
    },
    {
     "cell_type": "code",
     "collapsed": false,
     "input": [
      "calibration = tsr.copy()\n",
      "calibration['ELWS'] = calibration['ELWS'] - .25\n",
      "calibration.head()"
     ],
     "language": "python",
     "metadata": {},
     "outputs": [
      {
       "output_type": "stream",
       "stream": "stderr",
       "text": [
        "C:\\Anaconda\\lib\\site-packages\\pandas\\core\\config.py:570: DeprecationWarning: height has been deprecated.\n",
        "\n",
        "  warnings.warn(d.msg, DeprecationWarning)\n",
        "C:\\Anaconda\\lib\\site-packages\\pandas\\core\\config.py:570: DeprecationWarning: height has been deprecated.\n",
        "\n",
        "  warnings.warn(d.msg, DeprecationWarning)\n",
        "C:\\Anaconda\\lib\\site-packages\\pandas\\core\\config.py:570: DeprecationWarning: height has been deprecated.\n",
        "\n",
        "  warnings.warn(d.msg, DeprecationWarning)\n"
       ]
      },
      {
       "html": [
        "<div style=\"max-height:1000px;max-width:1500px;overflow:auto;\">\n",
        "<table border=\"1\" class=\"dataframe\">\n",
        "  <thead>\n",
        "    <tr style=\"text-align: right;\">\n",
        "      <th></th>\n",
        "      <th>JDAY</th>\n",
        "      <th>DLT</th>\n",
        "      <th>ELWS</th>\n",
        "      <th>T2</th>\n",
        "      <th>Q</th>\n",
        "      <th>SRON</th>\n",
        "      <th>ET</th>\n",
        "      <th>DEPTH</th>\n",
        "      <th>WIDTH</th>\n",
        "      <th>SHADE</th>\n",
        "      <th>Date</th>\n",
        "    </tr>\n",
        "  </thead>\n",
        "  <tbody>\n",
        "    <tr>\n",
        "      <th>0</th>\n",
        "      <td> 1829.000</td>\n",
        "      <td> 5</td>\n",
        "      <td> 261.66</td>\n",
        "      <td> 4.45</td>\n",
        "      <td> 0.18</td>\n",
        "      <td> 0</td>\n",
        "      <td> 0</td>\n",
        "      <td> 33.91</td>\n",
        "      <td> 638.84</td>\n",
        "      <td> 1</td>\n",
        "      <td>        2005-01-02 00:00:00+00:00</td>\n",
        "    </tr>\n",
        "    <tr>\n",
        "      <th>1</th>\n",
        "      <td> 1829.042</td>\n",
        "      <td> 5</td>\n",
        "      <td> 261.66</td>\n",
        "      <td> 4.44</td>\n",
        "      <td> 3.55</td>\n",
        "      <td> 0</td>\n",
        "      <td> 0</td>\n",
        "      <td> 33.91</td>\n",
        "      <td> 638.84</td>\n",
        "      <td> 1</td>\n",
        "      <td> 2005-01-02 01:00:28.800001+00:00</td>\n",
        "    </tr>\n",
        "    <tr>\n",
        "      <th>2</th>\n",
        "      <td> 1829.083</td>\n",
        "      <td> 5</td>\n",
        "      <td> 261.65</td>\n",
        "      <td> 4.44</td>\n",
        "      <td> 3.74</td>\n",
        "      <td> 0</td>\n",
        "      <td> 0</td>\n",
        "      <td> 33.90</td>\n",
        "      <td> 638.84</td>\n",
        "      <td> 1</td>\n",
        "      <td> 2005-01-02 01:59:31.199998+00:00</td>\n",
        "    </tr>\n",
        "    <tr>\n",
        "      <th>3</th>\n",
        "      <td> 1829.125</td>\n",
        "      <td> 5</td>\n",
        "      <td> 261.65</td>\n",
        "      <td> 4.43</td>\n",
        "      <td> 3.52</td>\n",
        "      <td> 0</td>\n",
        "      <td> 0</td>\n",
        "      <td> 33.90</td>\n",
        "      <td> 638.84</td>\n",
        "      <td> 1</td>\n",
        "      <td>        2005-01-02 03:00:00+00:00</td>\n",
        "    </tr>\n",
        "    <tr>\n",
        "      <th>4</th>\n",
        "      <td> 1829.167</td>\n",
        "      <td> 5</td>\n",
        "      <td> 261.65</td>\n",
        "      <td> 4.43</td>\n",
        "      <td> 3.42</td>\n",
        "      <td> 0</td>\n",
        "      <td> 0</td>\n",
        "      <td> 33.90</td>\n",
        "      <td> 638.84</td>\n",
        "      <td> 1</td>\n",
        "      <td> 2005-01-02 04:00:28.800001+00:00</td>\n",
        "    </tr>\n",
        "  </tbody>\n",
        "</table>\n",
        "</div>"
       ],
       "metadata": {},
       "output_type": "pyout",
       "prompt_number": 10,
       "text": [
        "       JDAY  DLT    ELWS    T2     Q  SRON  ET  DEPTH   WIDTH  SHADE  \\\n",
        "0  1829.000    5  261.66  4.45  0.18     0   0  33.91  638.84      1   \n",
        "1  1829.042    5  261.66  4.44  3.55     0   0  33.91  638.84      1   \n",
        "2  1829.083    5  261.65  4.44  3.74     0   0  33.90  638.84      1   \n",
        "3  1829.125    5  261.65  4.43  3.52     0   0  33.90  638.84      1   \n",
        "4  1829.167    5  261.65  4.43  3.42     0   0  33.90  638.84      1   \n",
        "\n",
        "                               Date  \n",
        "0         2005-01-02 00:00:00+00:00  \n",
        "1  2005-01-02 01:00:28.800001+00:00  \n",
        "2  2005-01-02 01:59:31.199998+00:00  \n",
        "3         2005-01-02 03:00:00+00:00  \n",
        "4  2005-01-02 04:00:28.800001+00:00  "
       ]
      }
     ],
     "prompt_number": 10
    },
    {
     "cell_type": "markdown",
     "metadata": {},
     "source": [
      "Create two 'Timeseries' objects (which have the similar properties to profile objects) \n",
      "and a 'Stats_TS' object (a class to analyze timeseries data)"
     ]
    },
    {
     "cell_type": "code",
     "collapsed": false,
     "input": [
      "ts = Timeseries(tsr, \n",
      "                data='ELWS', \n",
      "                stype='Model', \n",
      "                constituent='Surface Elevation', \n",
      "                units='m')\n",
      "cal_ts = Timeseries(calibration, \n",
      "                data='ELWS', \n",
      "                stype='Data', \n",
      "                constituent='Surface Elevation', \n",
      "                units='m')\n",
      "comparision = Stats_TS(ts, cal_ts)"
     ],
     "language": "python",
     "metadata": {},
     "outputs": [],
     "prompt_number": 11
    },
    {
     "cell_type": "code",
     "collapsed": false,
     "input": [
      "fig, ax = comparision.plot(stats=True)\n",
      "# ax.set_ylim([225, 265])"
     ],
     "language": "python",
     "metadata": {},
     "outputs": [
      {
       "metadata": {},
       "output_type": "display_data",
       "png": "[encoded data removed]",
       "text": [
        "<matplotlib.figure.Figure at 0x24fbb470>"
       ]
      }
     ],
     "prompt_number": 19
    },
    {
     "cell_type": "code",
     "collapsed": false,
     "input": [],
     "language": "python",
     "metadata": {},
     "outputs": []
    }
   ],
   "metadata": {}
  }
 ]
}