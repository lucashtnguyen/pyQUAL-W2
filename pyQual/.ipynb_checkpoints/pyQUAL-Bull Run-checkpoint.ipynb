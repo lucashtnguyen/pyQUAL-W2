{
 "metadata": {
  "name": ""
 },
 "nbformat": 3,
 "nbformat_minor": 0,
 "worksheets": [
  {
   "cells": [
    {
     "cell_type": "heading",
     "level": 1,
     "metadata": {},
     "source": [
      "pyQUAL"
     ]
    },
    {
     "cell_type": "markdown",
     "metadata": {},
     "source": [
      "A Python visualization and analysis package for CE-QUAL-W2 "
     ]
    },
    {
     "cell_type": "heading",
     "level": 2,
     "metadata": {},
     "source": [
      "Dependancies"
     ]
    },
    {
     "cell_type": "code",
     "collapsed": false,
     "input": [
      "from __future__ import division\n",
      "from pylab import *\n",
      "from decimal import *\n",
      "from mpl_toolkits.axes_grid.anchored_artists import AnchoredText\n",
      "from itertools import cycle\n",
      "import os\n",
      "import pandas\n",
      "import numpy as np\n",
      "import matplotlib as mpl\n",
      "import matplotlib.pyplot as plt\n",
      "import time\n",
      "import matplotlib.dates as mdates\n",
      "from mpl_toolkits.axes_grid1 import make_axes_locatable\n",
      "import seaborn\n",
      "from matplotlib.mlab import griddata\n",
      "%pylab inline"
     ],
     "language": "python",
     "metadata": {},
     "outputs": [
      {
       "output_type": "stream",
       "stream": "stdout",
       "text": [
        "Populating the interactive namespace from numpy and matplotlib\n"
       ]
      },
      {
       "output_type": "stream",
       "stream": "stderr",
       "text": [
        "WARNING: pylab import has clobbered these variables: ['linalg', 'draw_if_interactive', 'random', 'fft', 'power', 'info']\n",
        "`%pylab --no-import-all` prevents importing * from pylab and numpy\n"
       ]
      }
     ],
     "prompt_number": 1
    },
    {
     "cell_type": "heading",
     "level": 2,
     "metadata": {},
     "source": [
      "pyQUAL Library"
     ]
    },
    {
     "cell_type": "code",
     "collapsed": false,
     "input": [
      "os.chdir(r'C:\\Users\\lnguyen\\Documents\\GitHub\\pyQUAL-W2\\Model')\n",
      "from Get_Model import *\n",
      "from Types import *"
     ],
     "language": "python",
     "metadata": {},
     "outputs": [],
     "prompt_number": 2
    },
    {
     "cell_type": "code",
     "collapsed": false,
     "input": [
      "# Directory with data\n",
      "path = r'H:\\pyQual'"
     ],
     "language": "python",
     "metadata": {},
     "outputs": [],
     "prompt_number": 3
    },
    {
     "cell_type": "heading",
     "level": 2,
     "metadata": {},
     "source": [
      "Verticle Profiles"
     ]
    },
    {
     "cell_type": "markdown",
     "metadata": {},
     "source": [
      "Import spr.opt file"
     ]
    },
    {
     "cell_type": "code",
     "collapsed": false,
     "input": [
      "spr = Get_spr(os.path.join(path, 'spr2.opt'), Date=[2000,1,1], elev_cols=4)\n",
      "spr.head()"
     ],
     "language": "python",
     "metadata": {},
     "outputs": [
      {
       "output_type": "stream",
       "stream": "stderr",
       "text": [
        "C:\\Anaconda\\lib\\site-packages\\pandas\\core\\config.py:570: DeprecationWarning: height has been deprecated.\n",
        "\n",
        "  warnings.warn(d.msg, DeprecationWarning)\n",
        "C:\\Anaconda\\lib\\site-packages\\pandas\\core\\config.py:570: DeprecationWarning: height has been deprecated.\n",
        "\n",
        "  warnings.warn(d.msg, DeprecationWarning)\n",
        "C:\\Anaconda\\lib\\site-packages\\pandas\\core\\config.py:570: DeprecationWarning: height has been deprecated.\n",
        "\n",
        "  warnings.warn(d.msg, DeprecationWarning)\n"
       ]
      },
      {
       "html": [
        "<div style=\"max-height:1000px;max-width:1500px;overflow:auto;\">\n",
        "<table border=\"1\" class=\"dataframe\">\n",
        "  <thead>\n",
        "    <tr style=\"text-align: right;\">\n",
        "      <th></th>\n",
        "      <th>Unnamed: 0</th>\n",
        "      <th>Constituent</th>\n",
        "      <th>Julian_day</th>\n",
        "      <th>Depth</th>\n",
        "      <th>Elevation</th>\n",
        "      <th>Seg_50</th>\n",
        "      <th>Seg_55</th>\n",
        "      <th>Seg_73</th>\n",
        "      <th>Seg_82</th>\n",
        "      <th>Date</th>\n",
        "    </tr>\n",
        "  </thead>\n",
        "  <tbody>\n",
        "    <tr>\n",
        "      <th>0</th>\n",
        "      <td>NaN</td>\n",
        "      <td> Temperature</td>\n",
        "      <td> 1829</td>\n",
        "      <td>-0.455</td>\n",
        "      <td> 261.455</td>\n",
        "      <td> 4.45</td>\n",
        "      <td> 4.45</td>\n",
        "      <td> 4.45</td>\n",
        "      <td> 4.45</td>\n",
        "      <td> 2005-01-02 00:00:00+00:00</td>\n",
        "    </tr>\n",
        "    <tr>\n",
        "      <th>1</th>\n",
        "      <td>NaN</td>\n",
        "      <td> Temperature</td>\n",
        "      <td> 1829</td>\n",
        "      <td>-1.410</td>\n",
        "      <td> 260.500</td>\n",
        "      <td> 4.45</td>\n",
        "      <td> 4.45</td>\n",
        "      <td> 4.45</td>\n",
        "      <td> 4.45</td>\n",
        "      <td> 2005-01-02 00:00:00+00:00</td>\n",
        "    </tr>\n",
        "    <tr>\n",
        "      <th>2</th>\n",
        "      <td>NaN</td>\n",
        "      <td> Temperature</td>\n",
        "      <td> 1829</td>\n",
        "      <td>-2.410</td>\n",
        "      <td> 259.500</td>\n",
        "      <td> 4.45</td>\n",
        "      <td> 4.45</td>\n",
        "      <td> 4.45</td>\n",
        "      <td> 4.45</td>\n",
        "      <td> 2005-01-02 00:00:00+00:00</td>\n",
        "    </tr>\n",
        "    <tr>\n",
        "      <th>3</th>\n",
        "      <td>NaN</td>\n",
        "      <td> Temperature</td>\n",
        "      <td> 1829</td>\n",
        "      <td>-3.410</td>\n",
        "      <td> 258.500</td>\n",
        "      <td> 4.45</td>\n",
        "      <td> 4.45</td>\n",
        "      <td> 4.45</td>\n",
        "      <td> 4.45</td>\n",
        "      <td> 2005-01-02 00:00:00+00:00</td>\n",
        "    </tr>\n",
        "    <tr>\n",
        "      <th>4</th>\n",
        "      <td>NaN</td>\n",
        "      <td> Temperature</td>\n",
        "      <td> 1829</td>\n",
        "      <td>-4.410</td>\n",
        "      <td> 257.500</td>\n",
        "      <td> 4.45</td>\n",
        "      <td> 4.45</td>\n",
        "      <td> 4.45</td>\n",
        "      <td> 4.45</td>\n",
        "      <td> 2005-01-02 00:00:00+00:00</td>\n",
        "    </tr>\n",
        "  </tbody>\n",
        "</table>\n",
        "</div>"
       ],
       "metadata": {},
       "output_type": "pyout",
       "prompt_number": 4,
       "text": [
        "   Unnamed: 0  Constituent  Julian_day  Depth  Elevation  Seg_50  Seg_55  \\\n",
        "0         NaN  Temperature        1829 -0.455    261.455    4.45    4.45   \n",
        "1         NaN  Temperature        1829 -1.410    260.500    4.45    4.45   \n",
        "2         NaN  Temperature        1829 -2.410    259.500    4.45    4.45   \n",
        "3         NaN  Temperature        1829 -3.410    258.500    4.45    4.45   \n",
        "4         NaN  Temperature        1829 -4.410    257.500    4.45    4.45   \n",
        "\n",
        "   Seg_73  Seg_82                       Date  \n",
        "0    4.45    4.45  2005-01-02 00:00:00+00:00  \n",
        "1    4.45    4.45  2005-01-02 00:00:00+00:00  \n",
        "2    4.45    4.45  2005-01-02 00:00:00+00:00  \n",
        "3    4.45    4.45  2005-01-02 00:00:00+00:00  \n",
        "4    4.45    4.45  2005-01-02 00:00:00+00:00  "
       ]
      }
     ],
     "prompt_number": 4
    },
    {
     "cell_type": "markdown",
     "metadata": {},
     "source": [
      "test = spr[['Julian_day','Elevation', 'Seg_73']]\n",
      "\n",
      "\n",
      "from matplotlib.mlab import griddata\n",
      "\n",
      "xs0 = test.Julian_day.values\n",
      "ys0 = test.Elevation.values\n",
      "zs0 = test.Seg_73.values\n",
      "\n",
      "N = 30j\n",
      "extent = (test.Julian_day.min(),test.Julian_day.max(), test.Elevation.max(), test.Elevation.min())\n",
      "\n",
      "xs,ys = np.mgrid[extent[0]:extent[1]:N, extent[3]:extent[2]:N]\n",
      "\n",
      "resampled = griddata(xs0, ys0, zs0, xs, ys)\n",
      "\n",
      "fig, ax = plt.subplots(figsize=(5, (5/1.6)), dpi=300)\n",
      "ax.imshow(resampled.T, extent=extent, cmap='coolwarm',aspect=\"auto\", interpolation=None)\n",
      "ax.invert_yaxis()\n",
      "# plt.plot(xs0, ys0, \"r.\")\n",
      "# plt.plot(xs, ys, \"b.\")\n",
      "plt.title(\"imshow for irregularly spaced data using griddata\")\n",
      "plt.show()"
     ]
    },
    {
     "cell_type": "markdown",
     "metadata": {},
     "source": [
      "Create a 'Profile' object"
     ]
    },
    {
     "cell_type": "code",
     "collapsed": false,
     "input": [
      "pro = Profile(spr, \n",
      "              data='Seg_73', \n",
      "              JDcol='Julian_day', \n",
      "              stype='Model', \n",
      "              constituent='Temperature', \n",
      "              units='C')"
     ],
     "language": "python",
     "metadata": {},
     "outputs": [],
     "prompt_number": 5
    },
    {
     "cell_type": "markdown",
     "metadata": {},
     "source": [
      "Plot profiles, or groups of profiles"
     ]
    },
    {
     "cell_type": "code",
     "collapsed": false,
     "input": [
      "pro.plot(2027.266)"
     ],
     "language": "python",
     "metadata": {},
     "outputs": [
      {
       "metadata": {},
       "output_type": "pyout",
       "prompt_number": 6,
       "text": [
        "(<matplotlib.figure.Figure at 0x14e9cef0>,\n",
        " <matplotlib.axes.AxesSubplot at 0x5e8fc18>)"
       ]
      },
      {
       "metadata": {},
       "output_type": "display_data",
       "png": "[encoded data removed]",
       "text": [
        "<matplotlib.figure.Figure at 0x14e9cef0>"
       ]
      }
     ],
     "prompt_number": 6
    },
    {
     "cell_type": "markdown",
     "metadata": {},
     "source": [
      "The contour plot is still a work in progress, but this is where it is heading:"
     ]
    },
    {
     "cell_type": "code",
     "collapsed": false,
     "input": [
      "ax = pro.contourplot()"
     ],
     "language": "python",
     "metadata": {},
     "outputs": [
      {
       "metadata": {},
       "output_type": "display_data",
       "png": "[encoded data removed]",
       "text": [
        "<matplotlib.figure.Figure at 0x187f8c50>"
       ]
      }
     ],
     "prompt_number": 7
    },
    {
     "cell_type": "heading",
     "level": 2,
     "metadata": {},
     "source": [
      "Timeseries"
     ]
    },
    {
     "cell_type": "code",
     "collapsed": false,
     "input": [
      "tsr = Get_tsr(os.path.join(path, 'tsr_19.opt'), Date=[2000,1,1])\n",
      "tsr.head()"
     ],
     "language": "python",
     "metadata": {},
     "outputs": []
    },
    {
     "cell_type": "markdown",
     "metadata": {},
     "source": [
      "Fake some calibration data"
     ]
    },
    {
     "cell_type": "code",
     "collapsed": false,
     "input": [
      "calibration = tsr.copy()\n",
      "calibration['ELWS'] = calibration['ELWS'] - .25\n",
      "calibration.head()"
     ],
     "language": "python",
     "metadata": {},
     "outputs": []
    },
    {
     "cell_type": "markdown",
     "metadata": {},
     "source": [
      "Create two 'Timeseries' objects (which have the similar properties to profile objects) \n",
      "and a 'Stats_TS' object (a class to analyze timeseries data)"
     ]
    },
    {
     "cell_type": "code",
     "collapsed": false,
     "input": [
      "ts = Timeseries(tsr, \n",
      "                data='ELWS', \n",
      "                stype='Model', \n",
      "                constituent='Surface Elevation', \n",
      "                units='m')\n",
      "cal_ts = Timeseries(calibration, \n",
      "                data='ELWS', \n",
      "                stype='Data', \n",
      "                constituent='Surface Elevation', \n",
      "                units='m')\n",
      "comparision = Stats_TS(ts, cal_ts)"
     ],
     "language": "python",
     "metadata": {},
     "outputs": []
    },
    {
     "cell_type": "code",
     "collapsed": false,
     "input": [
      "fig, ax = comparision.plot(stats=True)"
     ],
     "language": "python",
     "metadata": {},
     "outputs": []
    },
    {
     "cell_type": "heading",
     "level": 3,
     "metadata": {},
     "source": [
      "Scratch Functions for Bull Run"
     ]
    },
    {
     "cell_type": "code",
     "collapsed": false,
     "input": [
      "def TabulateResTemp(spr, elevations, file_path):\n",
      "    \n",
      "    # spr.set_index('Elevation', inplace=True)\n",
      "    writer = pandas.ExcelWriter('{0}\\Reservoir2_Tabulated_Temperatures_{1}.xlsx'.format(file_path, spr.Date[0].year))\n",
      "    writer_data = spr.set_index('Elevation').xs(elevations[0])[['Date','Julian_day', 'Seg_73']]\n",
      "    writer_data.set_index('Date', inplace=True)\n",
      "    for el in elevations[1:]:\n",
      "        el_data = spr.set_index('Elevation').xs(el)[['Date', 'Seg_73']]\n",
      "        el_data.columns = ['Date','{0}'.format(el)]\n",
      "        writer_data = writer_data.join(el_data.set_index('Date')['{0}'.format(el)])\n",
      "    writer_data.columns = [\n",
      "        'Julian Day',\n",
      "        'Temp, C (Elev. 231.65 m/760 ft)',\n",
      "        'Temp, C (Elev. 237.74 m/780 ft)',\n",
      "        'Temp, C (Elev. 242.32 m/795 ft)',\n",
      "        'Temp, C (Elev. 246.89 m/810 ft)',\n",
      "        'Temp, C (Elev. 251.46 m/825 ft)',\n",
      "        'Temp, C (Elev. 256.03 m/840 ft)',\n",
      "        'Temp, C (Elev. 259.08 m/850 ft)']\n",
      "\n",
      "    writer_data.to_excel(writer, 'Reservoir 2, SEG 73, 2001')\n",
      "    writer.save() "
     ],
     "language": "python",
     "metadata": {},
     "outputs": []
    },
    {
     "cell_type": "code",
     "collapsed": false,
     "input": [
      "path37 = r'P:\\Clients\\Portland_City_of\\Projects\\PNW0191_PWB_Bull_Run_Dam_2_Improvements\\Analyses_Technical\\Task_05_ModelConversion\\2001\\Version_3.71\\2001_Model'\n"
     ],
     "language": "python",
     "metadata": {},
     "outputs": []
    },
    {
     "cell_type": "code",
     "collapsed": false,
     "input": [
      "def Get_spr(file_path, elev_cols=3, Date=[1996, 1, 1]):\n",
      "    '''\n",
      "    Specifiy the path of a spr.opt file.\n",
      "    Returns pandas dataframe\n",
      "    '''\n",
      "    spr = pandas.read_table('{0}'.format(file_path), na_values = 'm', delim_whitespace = True)\n",
      "    # spr = spr.drop('Unnamed: 0', axis=1)\n",
      "    for r in range(1,elev_cols + 1, 1):\n",
      "        spr = spr.drop('Elevation.{0}'.format(r), axis=1)\n",
      "    \n",
      "    if Date is not None:\n",
      "        spr['Date'] = Julian2Date(spr['Julian_day'], Date[0], month = Date[1], day = Date[2])\n",
      "\n",
      "    return spr"
     ],
     "language": "python",
     "metadata": {},
     "outputs": []
    },
    {
     "cell_type": "code",
     "collapsed": false,
     "input": [
      "spr37 = Get_spr(os.path.join(path37, 'spr2.opt'))"
     ],
     "language": "python",
     "metadata": {},
     "outputs": []
    },
    {
     "cell_type": "code",
     "collapsed": false,
     "input": [
      "spr37.head()"
     ],
     "language": "python",
     "metadata": {},
     "outputs": []
    },
    {
     "cell_type": "code",
     "collapsed": false,
     "input": [
      "TabulateResTemp(spr37, \n",
      "    [231.5,  237.5,  241.5,  246.5,  250.5,  255.5,  258.5], \n",
      "    path37)"
     ],
     "language": "python",
     "metadata": {},
     "outputs": []
    },
    {
     "cell_type": "code",
     "collapsed": false,
     "input": [
      "def TabulateOutflow(Flow30, Temp30, Flow74, Temp74, file_path):\n",
      "    writer = pandas.ExcelWriter('{0}\\Outflow_Tabulated_Temperatures_{1}.xlsx'.format(file_path, Flow74[0:1].Date[0].year))\n",
      "    writer_data = Flow30.set_index('Date')\n",
      "    writer_data = writer_data.join(Temp30.set_index('Date')['T'])\n",
      "    writer_data.columns = ['Julain Day', 'R1 Flow, cms (Seg 30)', 'R1 Temp, C (Seg 30)']\n",
      "    writer_data = writer_data.join(Flow74.set_index('Date')['QWD'])\n",
      "    writer_data = writer_data.join(Temp74.set_index('Date')['T'])\n",
      "    writer_data.columns = ['Julain Day', 'R1 Flow, cms (Seg 30)', 'R1 Temp, C (Seg 30)','R2 Flow, cms (Seg 74)', 'R1 Temp, C (Seg 74)']\n",
      "    \n",
      "    writer_data.to_excel(writer, 'Withdrawal Flow and Temperature')\n",
      "\n",
      "    writer.save() "
     ],
     "language": "python",
     "metadata": {},
     "outputs": []
    },
    {
     "cell_type": "code",
     "collapsed": false,
     "input": [
      "two_30_2001 = pandas.read_csv(r'{0}\\two_30.opt'.format(path37), skiprows=2, delim_whitespace=True, )\n",
      "# two_30_2001 = Get_two(r'{0}\\two_30.opt'.format(path37))\n",
      "# two_74_2001 = Get_two(r'{0}\\two_74.opt'.format(path37))\n",
      "\n",
      "# qwo_30_2001 = Get_qwo(r'{0}\\qwo_30.opt'.format(path37))\n",
      "# qwo_74_2001 = Get_qwo(r'{0}\\qwo_74.opt'.format(path37))"
     ],
     "language": "python",
     "metadata": {},
     "outputs": []
    },
    {
     "cell_type": "code",
     "collapsed": false,
     "input": [
      "two_30_2001.head()"
     ],
     "language": "python",
     "metadata": {},
     "outputs": []
    },
    {
     "cell_type": "code",
     "collapsed": false,
     "input": [
      "TabulateOutflow(qwo_30_2001, two_30_2001, qwo_74_2001, two_74_2001, path37)"
     ],
     "language": "python",
     "metadata": {},
     "outputs": []
    }
   ],
   "metadata": {}
  }
 ]
}