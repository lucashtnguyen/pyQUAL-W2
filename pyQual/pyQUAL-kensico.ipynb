{
 "metadata": {
  "name": ""
 },
 "nbformat": 3,
 "nbformat_minor": 0,
 "worksheets": [
  {
   "cells": [
    {
     "cell_type": "markdown",
     "metadata": {},
     "source": [
      "#Kensico manuscript plots"
     ]
    },
    {
     "cell_type": "markdown",
     "metadata": {},
     "source": [
      "## Setup computational environment"
     ]
    },
    {
     "cell_type": "code",
     "collapsed": false,
     "input": [
      "import os\n",
      "os.chdir(r'C:\\Users\\lnguyen\\Documents\\GitHub\\pyQUAL-W2\\Model')\n",
      "from Get_Model import *\n",
      "from Types_test import *\n",
      "seaborn.set(context='paper', style='whitegrid')\n",
      "seaborn.palplot(seaborn.color_palette(\"hls\", 8))\n",
      "seaborn.set(style='ticks')\n",
      "%pylab inline"
     ],
     "language": "python",
     "metadata": {},
     "outputs": [
      {
       "output_type": "stream",
       "stream": "stdout",
       "text": [
        "Populating the interactive namespace from numpy and matplotlib\n"
       ]
      },
      {
       "output_type": "stream",
       "stream": "stderr",
       "text": [
        "WARNING: pylab import has clobbered these variables: ['power', 'info', 'draw_if_interactive', 'random', 'fft', 'linalg']\n",
        "`%pylab --no-import-all` prevents importing * from pylab and numpy\n"
       ]
      }
     ],
     "prompt_number": 1
    },
    {
     "cell_type": "markdown",
     "metadata": {},
     "source": [
      "## Define functions"
     ]
    },
    {
     "cell_type": "code",
     "collapsed": false,
     "input": [
      "def get_cwo(file_path):\n",
      "    widths = [8]*16\n",
      "    data = pandas.read_fwf(file_path, skiprows=2, widths=widths)# colspecs=colspecs)\n",
      "    data.set_index('JDAY', inplace=True)\n",
      "    return data"
     ],
     "language": "python",
     "metadata": {},
     "outputs": [],
     "prompt_number": 2
    },
    {
     "cell_type": "code",
     "collapsed": false,
     "input": [
      "def plot_cwo(data, trib_nams, event=None, axes=None, labels=True):\n",
      "    var_names= {\n",
      "        'Gen1': 'CAT',\n",
      "        'Gen2': 'WHP',\n",
      "        'Gen3': 'MB',\n",
      "        'Gen4': 'BG',\n",
      "        'Gen5': 'DIK',\n",
      "        'Gen6': 'E9 ',\n",
      "        'Gen7': 'DEL ',\n",
      "        'Gen8': 'CBK ',\n",
      "        'Gen9': 'DBK',\n",
      "        'Gen10': 'N12',\n",
      "        'Gen11': 'N5 ',\n",
      "        'Gen12': 'E10',\n",
      "        'Gen13': 'E11',\n",
      "        'Gen14': 'Total',\n",
      "        'Gen15': 'Age'\n",
      "        }\n",
      "\n",
      "    if axes is None:\n",
      "        fig, axes = plt.subplots(nrows=1, ncols=1, figsize=(5, 5/1.6))\n",
      "    for trib in trib_nams:\n",
      "        axes.plot(data[trib], label=var_names[trib], alpha = 0.80, linewidth=1)\n",
      "        axes.spines['bottom'].set_color('k')\n",
      "        axes.spines['left'].set_color('k')\n",
      "        \n",
      "#         axes.grid( 'on', which='major', axis = 'both')\n",
      "#         axes.grid( 'on', which='major', axis = 'x')\n",
      "#         axes.grid('on', which='minor', axis = 'both')\n",
      "        \n",
      "    seaborn.despine(ax=axes)\n",
      "    axes.set_ylim([0,15])\n",
      "    if event == 'summer':\n",
      "        xlim = [560,740]\n",
      "    elif event == 'winter':\n",
      "        xlim = [340, 520]\n",
      "    else:\n",
      "        xlim = [0,1200]\n",
      "    axes.set_xlim(xlim)\n",
      "    \n",
      "    if event == 'winter':\n",
      "        start = 367\n",
      "        stop = 372\n",
      "    elif event == 'summer':\n",
      "        start = 574\n",
      "        stop = 579\n",
      "    axes.axvspan(start, stop, facecolor='k', alpha=0.2)\n",
      "    \n",
      "    return axes\n",
      "\n",
      "def comp_plot(summer, winter, trib_nams, save_path):\n",
      "    CAT_s = get_cwo(os.path.join(summer, 'cwo_wd1_seg25.opt'))\n",
      "    DEL_s = get_cwo(os.path.join(summer, 'cwo_wd2_seg12.opt'))\n",
      "    \n",
      "    CAT_w = get_cwo(os.path.join(winter, 'cwo_wd1_seg25.opt'))\n",
      "    DEL_w = get_cwo(os.path.join(winter, 'cwo_wd2_seg12.opt'))\n",
      "    \n",
      "    \n",
      "    fig, axes = plt.subplots(ncols=2, nrows=2, sharey=True, figsize=(5, 5/1.6))\n",
      "    \n",
      "    for ax_i in axes.flatten(): \n",
      "        for spine in ax_i.spines.values(): \n",
      "            spine.set_position(('outward', 10))\n",
      "    \n",
      "    plot_cwo(CAT_w, trib_nams, event='winter', axes=axes[0,0])\n",
      "    plot_cwo(CAT_s, trib_nams, event='summer', axes=axes[0,1])\n",
      "    plot_cwo(DEL_w, trib_nams, event='winter', axes=axes[1,0])\n",
      "    plot_cwo(DEL_s, trib_nams, event='summer', axes=axes[1,1])\n",
      "    \n",
      "    axes[0,0].annotate('a.', xy=(500, 13), xytext=(500, 13))\n",
      "    axes[0,1].annotate('b.', xy=(720, 13), xytext=(720, 13))\n",
      "    axes[1,0].annotate('c.', xy=(500, 13), xytext=(500, 13))\n",
      "    axes[1,1].annotate('d.', xy=(720, 13), xytext=(720, 13))\n",
      "    \n",
      "    for lower in [axes[1,0], axes[1,1]]:\n",
      "        lower.set_xlabel('Julain Day', fontsize=8)\n",
      "        plt.setp(lower.get_xmajorticklabels(), rotation=30)\n",
      "    for left in [axes[0,0], axes[1,0]]:\n",
      "        left.set_ylabel('Tracer, mg/L', fontsize=8)  \n",
      "    for upper in [axes[0,0], axes[0,1]]:\n",
      "        plt.setp(upper.get_xticklabels(), visible=False)\n",
      "#         seaborn.despine(ax=upper, top=True, bottom=True)   \n",
      "    for right in [axes[1,1], axes[0,1]]:\n",
      "        right.yaxis.tick_right()\n",
      "        seaborn.despine(ax=right, right=False, left=True)    \n",
      "#     seaborn.despine(ax=axes[0,1], top=True, bottom=True, right=False, left=True)\n",
      "\n",
      "    for ax_i in axes.flatten():\n",
      "        plt.setp(ax_i.get_xmajorticklabels(), fontsize=8)\n",
      "        plt.setp(ax_i.get_ymajorticklabels(), fontsize=8)\n",
      "    \n",
      "    axes[1,1].legend(loc='upper center', bbox_to_anchor=(0.5,-.001),ncol=4, fontsize=8, bbox_transform=gcf().transFigure) \n",
      "    \n",
      "    fig.tight_layout()\n",
      "    fig.savefig(save_path, dpi=300, bbox_inches='tight')\n",
      "    return axes"
     ],
     "language": "python",
     "metadata": {},
     "outputs": [],
     "prompt_number": 31
    },
    {
     "cell_type": "markdown",
     "metadata": {},
     "source": [
      "##Figures"
     ]
    },
    {
     "cell_type": "markdown",
     "metadata": {},
     "source": [
      "####Set color palette"
     ]
    },
    {
     "cell_type": "code",
     "collapsed": false,
     "input": [
      "seaborn.set_color_palette('hls',  8)\n",
      "current_palette = seaborn.color_palette('hls',  8)\n",
      "seaborn.palplot(current_palette) "
     ],
     "language": "python",
     "metadata": {},
     "outputs": [
      {
       "metadata": {},
       "output_type": "display_data",
       "png": "[encoded data removed]",
       "text": [
        "<matplotlib.figure.Figure at 0x16cc2198>"
       ]
      }
     ],
     "prompt_number": 14
    },
    {
     "cell_type": "markdown",
     "metadata": {},
     "source": [
      "####Set save directory"
     ]
    },
    {
     "cell_type": "code",
     "collapsed": false,
     "input": [
      "save_dir = r'C:\\Nguyen_et_al\\Figures_2014-02-09'"
     ],
     "language": "python",
     "metadata": {},
     "outputs": [],
     "prompt_number": 5
    },
    {
     "cell_type": "markdown",
     "metadata": {},
     "source": [
      "####Set which tributaries to plot here"
     ]
    },
    {
     "cell_type": "code",
     "collapsed": false,
     "input": [
      "tribs = [\n",
      "    'Gen2',\n",
      "    'Gen3',\n",
      "    'Gen4',\n",
      "    'Gen6',\n",
      "    'Gen10',\n",
      "    'Gen11',\n",
      "    'Gen12',\n",
      "    'Gen13'\n",
      "    ]"
     ],
     "language": "python",
     "metadata": {},
     "outputs": [],
     "prompt_number": 6
    },
    {
     "cell_type": "markdown",
     "metadata": {},
     "source": [
      "###Figure 2"
     ]
    },
    {
     "cell_type": "code",
     "collapsed": false,
     "input": [
      "# Directory with data\n",
      "summer = r'C:\\Users\\lnguyen\\Documents\\GitHub\\pyQUAL-W2\\pyQual' \\\n",
      "    r'\\all output files\\Kensico_20131114 (continuous tracer, 1 yr spinup)\\Trial 3'\n",
      "winter = r'C:\\Users\\lnguyen\\Documents\\GitHub\\pyQUAL-W2\\pyQual' \\\n",
      "    r'\\all output files\\Kensico_20131114 (continuous tracer, 1 yr spinup)\\Trial 4'"
     ],
     "language": "python",
     "metadata": {},
     "outputs": [],
     "prompt_number": 7
    },
    {
     "cell_type": "markdown",
     "metadata": {},
     "source": [
      "a. Catskill winter, b. Catskill summer, c. Delaware winter, d. Delaware summer"
     ]
    },
    {
     "cell_type": "code",
     "collapsed": false,
     "input": [
      "comp_plot(summer, winter, tribs, os.path.join(save_dir,'Figure2.png'))"
     ],
     "language": "python",
     "metadata": {},
     "outputs": [
      {
       "metadata": {},
       "output_type": "pyout",
       "prompt_number": 32,
       "text": [
        "array([[<matplotlib.axes.AxesSubplot object at 0x000000001B707E48>,\n",
        "        <matplotlib.axes.AxesSubplot object at 0x000000001B7D8B38>],\n",
        "       [<matplotlib.axes.AxesSubplot object at 0x000000001C2C8630>,\n",
        "        <matplotlib.axes.AxesSubplot object at 0x000000001C2BCE10>]], dtype=object)"
       ]
      },
      {
       "metadata": {},
       "output_type": "display_data",
       "png": "[encoded data removed]",
       "text": [
        "<matplotlib.figure.Figure at 0x1b723208>"
       ]
      }
     ],
     "prompt_number": 32
    },
    {
     "cell_type": "markdown",
     "metadata": {},
     "source": [
      "###Figure 3"
     ]
    },
    {
     "cell_type": "code",
     "collapsed": false,
     "input": [],
     "language": "python",
     "metadata": {},
     "outputs": [],
     "prompt_number": 8
    }
   ],
   "metadata": {}
  }
 ]
}